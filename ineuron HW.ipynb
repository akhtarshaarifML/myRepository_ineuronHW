{
 "cells": [
  {
   "cell_type": "markdown",
   "id": "9e98fc76",
   "metadata": {},
   "source": [
    "# WAP to accept two numbers from the user and display their sum\n"
   ]
  },
  {
   "cell_type": "code",
   "execution_count": 3,
   "id": "9252898a",
   "metadata": {},
   "outputs": [
    {
     "name": "stdout",
     "output_type": "stream",
     "text": [
      "Enter first no. :6\n",
      "Enter second no. :7\n",
      "13\n"
     ]
    }
   ],
   "source": [
    "x = int(input(\"Enter first no. :\"))\n",
    "y = int(input(\"Enter second no. :\"))\n",
    "\n",
    "print(x+y)"
   ]
  },
  {
   "cell_type": "markdown",
   "id": "8fb91baa",
   "metadata": {},
   "source": [
    "# WAP to accept radius of a Circle from the user and calculate area and circumference\n"
   ]
  },
  {
   "cell_type": "code",
   "execution_count": 6,
   "id": "ef3f076b",
   "metadata": {},
   "outputs": [
    {
     "name": "stdout",
     "output_type": "stream",
     "text": [
      "enter radius:3\n",
      "area is 28.285714285714285 and circumfrence is 18.857142857142858\n"
     ]
    }
   ],
   "source": [
    "radius = int(input(\"enter radius:\"))\n",
    "pi = 22/7\n",
    "print(\"area is {} and circumfrence is {}\".format(pi* (radius**2), 2*pi*radius))"
   ]
  },
  {
   "cell_type": "markdown",
   "id": "6feb1067",
   "metadata": {},
   "source": [
    "# WAP to accept roll number , grade and percentage as input from the user and display it back"
   ]
  },
  {
   "cell_type": "code",
   "execution_count": 9,
   "id": "68708e57",
   "metadata": {},
   "outputs": [
    {
     "name": "stdout",
     "output_type": "stream",
     "text": [
      "enter roll no:1234\n",
      "enter grade:3\n",
      "enter percentage:99\n",
      "Roll no 1234 from grade 3 obtained percentage 99% \n"
     ]
    }
   ],
   "source": [
    "roll = input(\"enter roll no:\")\n",
    "grade = input(\"enter grade:\")\n",
    "perc = input(\"enter percentage:\")\n",
    "\n",
    "print(\"Roll no {} from grade {} obtained percentage {}% \".format(roll, grade, perc))"
   ]
  },
  {
   "cell_type": "markdown",
   "id": "132c45e3",
   "metadata": {},
   "source": [
    "# Write a program that asks the user to enter his/her name and age. Print out a message , displaying the user’s name along with the year in which they will turn 100 years old.\n"
   ]
  },
  {
   "cell_type": "code",
   "execution_count": 13,
   "id": "7da73de8",
   "metadata": {},
   "outputs": [
    {
     "name": "stdout",
     "output_type": "stream",
     "text": [
      "Enter name:anirban\n",
      "Enter age :23\n",
      "anirban would turn 100 in the year  2100\n"
     ]
    }
   ],
   "source": [
    "name = input(\"Enter name:\")\n",
    "age = input(\"Enter age :\")\n",
    "year = 100 - int(age) + 2023\n",
    "\n",
    "print(name + \" would turn 100 in the year \",year)"
   ]
  },
  {
   "cell_type": "markdown",
   "id": "bcbbdfcb",
   "metadata": {},
   "source": [
    "# Write a program that asks the user to input 2 integers and adds them . Accept both the numbers in a single line only\n"
   ]
  },
  {
   "cell_type": "code",
   "execution_count": 18,
   "id": "8d2ebdaf",
   "metadata": {},
   "outputs": [
    {
     "name": "stdout",
     "output_type": "stream",
     "text": [
      "Enter the two no.s :23 4\n"
     ]
    },
    {
     "data": {
      "text/plain": [
       "27"
      ]
     },
     "execution_count": 18,
     "metadata": {},
     "output_type": "execute_result"
    }
   ],
   "source": [
    "x , y = input(\"Enter the two no.s :\").split()\n",
    "\n",
    "int(x)+int(y)"
   ]
  },
  {
   "cell_type": "markdown",
   "id": "d317a851",
   "metadata": {},
   "source": [
    "# Write a Python program which accepts the user's first and last name and print them in reverse order with a space between them.\n"
   ]
  },
  {
   "cell_type": "code",
   "execution_count": 21,
   "id": "e5eb2954",
   "metadata": {},
   "outputs": [
    {
     "name": "stdout",
     "output_type": "stream",
     "text": [
      "Enter first name : abbas\n",
      "Enter second name : mastan\n",
      "natsam sabba\n"
     ]
    }
   ],
   "source": [
    "first = input(\"Enter first name : \")\n",
    "second = input(\"Enter second name : \")\n",
    "full = first +\" \"+ second\n",
    "print(full[::-1])"
   ]
  },
  {
   "cell_type": "markdown",
   "id": "e9c5d6a7",
   "metadata": {},
   "source": [
    "# WAP to accept an integer from the user and check whether it is an even or odd "
   ]
  },
  {
   "cell_type": "code",
   "execution_count": 24,
   "id": "aec3d29e",
   "metadata": {},
   "outputs": [
    {
     "name": "stdout",
     "output_type": "stream",
     "text": [
      "Enter integer : 33\n",
      "33 is odd\n"
     ]
    }
   ],
   "source": [
    "number = int(input(\"Enter integer : \"))\n",
    "if number%2 == 0:\n",
    "    print(\"{} is even\".format(number))\n",
    "else:\n",
    "    print(\"{} is odd\".format(number))"
   ]
  },
  {
   "cell_type": "markdown",
   "id": "0f57e4b2",
   "metadata": {},
   "source": [
    "# WAP to accept a character from the user and check whether it is a capital letter or small letter. Assume user will input only alphabets\n"
   ]
  },
  {
   "cell_type": "code",
   "execution_count": 29,
   "id": "4360dd10",
   "metadata": {},
   "outputs": [
    {
     "name": "stdout",
     "output_type": "stream",
     "text": [
      "Enter character : d\n",
      "d is lower\n"
     ]
    }
   ],
   "source": [
    "char = input(\"Enter character : \")\n",
    "\n",
    "if char.islower() == True:\n",
    "    print(\"{} is lower\".format(char))\n",
    "else:\n",
    "    print(\"{} is upper\".format(char))\n"
   ]
  },
  {
   "cell_type": "markdown",
   "id": "426630e8",
   "metadata": {},
   "source": [
    "# WAP to accept a character from the user and check whether it is a capital letter or small letter or a digit or some special symbol\n"
   ]
  },
  {
   "cell_type": "code",
   "execution_count": 47,
   "id": "689d52b8",
   "metadata": {},
   "outputs": [
    {
     "name": "stdout",
     "output_type": "stream",
     "text": [
      "Enter character: $\n",
      "$ is special symbol\n"
     ]
    }
   ],
   "source": [
    "char = input(\"Enter character: \")\n",
    "\n",
    "if char.isupper() == True:\n",
    "    print(\"{} is capital\".format(char))\n",
    "elif char.islower() == True:\n",
    "    print(\"{} is lower\".format(char))\n",
    "else:\n",
    "    print(\"{} is special symbol\".format(char))\n",
    "    "
   ]
  },
  {
   "cell_type": "markdown",
   "id": "2e2b8b62",
   "metadata": {},
   "source": [
    "# WAP to accept 3 integers from the user and without using any logical operator and cascading of relational operators , find out the greatest number amongst them"
   ]
  },
  {
   "cell_type": "code",
   "execution_count": 49,
   "id": "02234f9b",
   "metadata": {},
   "outputs": [
    {
     "name": "stdout",
     "output_type": "stream",
     "text": [
      "Enter first integer: 5\n",
      "Enter second integer: 4\n",
      "Enter third integer: 8\n",
      "Greatest number is: 8\n"
     ]
    }
   ],
   "source": [
    "one = int(input(\"Enter first integer: \"))\n",
    "two = int(input(\"Enter second integer: \"))\n",
    "three = int(input(\"Enter third integer: \"))\n",
    "\n",
    "print(\"Greatest number is: {}\".format(max(one,two,three)))\n"
   ]
  },
  {
   "cell_type": "markdown",
   "id": "5cd3aaad",
   "metadata": {},
   "source": [
    "# WAP to accept a year from the user and check whether it is a leap year or not.\n"
   ]
  },
  {
   "cell_type": "code",
   "execution_count": 63,
   "id": "2e915da9",
   "metadata": {},
   "outputs": [
    {
     "name": "stdout",
     "output_type": "stream",
     "text": [
      "Enter year: 1900\n",
      "1900 is not a leap year\n"
     ]
    }
   ],
   "source": [
    "year = int(input(\"Enter year: \"))\n",
    "\n",
    "if (year % 4 == 0) & (year % 100 !=0) or (year % 400 == 0):\n",
    "    print(\"{} is a leap year\".format(year))\n",
    "else:\n",
    "    print(\"{} is not a leap year\".format(year))\n"
   ]
  },
  {
   "cell_type": "markdown",
   "id": "b8d94ffa",
   "metadata": {},
   "source": [
    "# You have to develop a number guessing game. Following are the steps needed:\n",
    "At first , the program will generate a random integer secretly.\n",
    "\n",
    "Now it will ask the user to guess that number .\n",
    "\n",
    "If the user guessed it correctly then the program prints “Congratulations! You guessed it right” .\n",
    "\n",
    "But if the number guessed by the user is larger than the secret number then program should print “Number too large” and , if the number guessed by the user is smaller than the secret number then the program should print “Number too small” \n",
    "\n",
    "This should continue until the user guesses the number correctly or quits .\n",
    "\n",
    "If the user wants to quit in between he will have to type 0 or negative number\n"
   ]
  },
  {
   "cell_type": "code",
   "execution_count": 12,
   "id": "39acbd7a",
   "metadata": {},
   "outputs": [
    {
     "name": "stdout",
     "output_type": "stream",
     "text": [
      "Guess the no between 1-100, if you wish to quit press 0 or any negative no.33\n",
      "Number too small!\n",
      "Guess the no between 1-100, if you wish to quit press 0 or any negative no.45\n",
      "Number too small!\n",
      "Guess the no between 1-100, if you wish to quit press 0 or any negative no.0\n",
      "You chose to quit!\n"
     ]
    }
   ],
   "source": [
    "import random\n",
    "a = random.randint(1,100)\n",
    "\n",
    "b = 1\n",
    "\n",
    "while b > 0:\n",
    "    \n",
    "    b = int(input(\"Guess the no between 1-100, if you wish to quit press 0 or any negative no.\"))\n",
    "    if b <= 0:\n",
    "        print(\"You chose to quit!\")\n",
    "        break\n",
    "        \n",
    "    \n",
    "    elif a == b :\n",
    "        print(\"Congratulations! You guess it right!\")\n",
    "        break\n",
    "        \n",
    "        \n",
    "    elif a < b:\n",
    "        print(\"Number too large!\")\n",
    "        \n",
    "    elif a > b:\n",
    "        print(\"Number too small!\")\n",
    "    \n",
    "    \n",
    "\n",
    "    \n"
   ]
  },
  {
   "cell_type": "markdown",
   "id": "2e04bfd1",
   "metadata": {},
   "source": [
    "# Write a program to accept a string from the user and display it vertically but don’t display the vowels in it.\n"
   ]
  },
  {
   "cell_type": "code",
   "execution_count": 18,
   "id": "ac6e74a2",
   "metadata": {},
   "outputs": [
    {
     "name": "stdout",
     "output_type": "stream",
     "text": [
      "Enter string : bully is the one who is aggressive\n",
      "b\n",
      "l\n",
      "l\n",
      "y\n",
      " \n",
      "s\n",
      " \n",
      "t\n",
      "h\n",
      " \n",
      "n\n",
      " \n",
      "w\n",
      "h\n",
      " \n",
      "s\n",
      " \n",
      "g\n",
      "g\n",
      "r\n",
      "s\n",
      "s\n",
      "v\n"
     ]
    }
   ],
   "source": [
    "string = input(\"Enter string : \")\n",
    "\n",
    "i = 0\n",
    "while i < len(string):\n",
    "    \n",
    "    if string[i] not in \"aeiou\":\n",
    "        print(string[i])\n",
    "    i = i + 1\n",
    "    \n"
   ]
  },
  {
   "cell_type": "markdown",
   "id": "5b7cbfa1",
   "metadata": {},
   "source": [
    "# Write a program to continuously accept integers from the user until the user types 0 and as soon as 0 is entered display sum of all the nos entered before 0\n",
    "Note:Modify the previous code so that if the user inputs a negative integer , your program should ignore it ."
   ]
  },
  {
   "cell_type": "code",
   "execution_count": 20,
   "id": "72aa51de",
   "metadata": {},
   "outputs": [
    {
     "name": "stdout",
     "output_type": "stream",
     "text": [
      "Enter no: 1\n",
      "Enter no: 2\n",
      "Enter no: -1\n",
      "you chose to quit\n",
      "Sum is  3\n"
     ]
    }
   ],
   "source": [
    "i = 1\n",
    "\n",
    "add = 0\n",
    "\n",
    "while i > 0:\n",
    "    \n",
    "    num = int(input(\"Enter no: \"))\n",
    "   \n",
    "    \n",
    "    if num <= 0:\n",
    "        print(\"you chose to quit\")\n",
    "        print(\"Sum is \",add)\n",
    "        break\n",
    "    \n",
    "    add = add + num \n",
    "    i = num\n",
    "    \n",
    "    "
   ]
  },
  {
   "cell_type": "markdown",
   "id": "542ea46e",
   "metadata": {},
   "source": [
    "# Write a program using a for loop to accept a string from the user and display it vertically but don’t display the vowels in it.\n"
   ]
  },
  {
   "cell_type": "code",
   "execution_count": 31,
   "id": "53312930",
   "metadata": {},
   "outputs": [
    {
     "name": "stdout",
     "output_type": "stream",
     "text": [
      "Enter string : HAmster\n",
      "H\n",
      "m\n",
      "s\n",
      "t\n",
      "r\n"
     ]
    }
   ],
   "source": [
    "string = input(\"Enter string : \")\n",
    "\n",
    "for i in string:\n",
    "    if i not in \"aeiouAEIOU \":\n",
    "        print(i)"
   ]
  },
  {
   "cell_type": "markdown",
   "id": "05e9ec1c",
   "metadata": {},
   "source": [
    "# Write a program to accept an integer from the user and display the sum of all the numbers from 1 to that number.\n"
   ]
  },
  {
   "cell_type": "code",
   "execution_count": 10,
   "id": "ada9b6dc",
   "metadata": {
    "scrolled": true
   },
   "outputs": [
    {
     "name": "stdout",
     "output_type": "stream",
     "text": [
      "Enter integer: 3\n",
      "6\n"
     ]
    }
   ],
   "source": [
    "num = int(input(\"Enter integer: \"))\n",
    "\n",
    "add = 0\n",
    "\n",
    "for i in range(1,num+1):\n",
    "    \n",
    "    \n",
    "    add = add + i\n",
    "\n",
    "print(add)\n",
    "    "
   ]
  },
  {
   "cell_type": "markdown",
   "id": "115c422d",
   "metadata": {},
   "source": [
    "# Write a program to accept an integer from the user and calculate its factorial"
   ]
  },
  {
   "cell_type": "code",
   "execution_count": 14,
   "id": "90be8f27",
   "metadata": {},
   "outputs": [
    {
     "name": "stdout",
     "output_type": "stream",
     "text": [
      "Enter integer: 4\n",
      "24\n"
     ]
    }
   ],
   "source": [
    "num = int(input(\"Enter integer: \"))\n",
    "fact = 1\n",
    "\n",
    "for i in range(1,num+1):\n",
    "    \n",
    "    fact = fact * i\n",
    "    \n",
    "    \n",
    "print(fact)"
   ]
  },
  {
   "cell_type": "markdown",
   "id": "18c1608c",
   "metadata": {},
   "source": [
    "# Write a program to print the following pattern \n",
    "***\n",
    "***\n",
    "***\n",
    "***\n"
   ]
  },
  {
   "cell_type": "code",
   "execution_count": 16,
   "id": "41f07173",
   "metadata": {},
   "outputs": [
    {
     "name": "stdout",
     "output_type": "stream",
     "text": [
      "* * * \n",
      "* * * \n",
      "* * * \n",
      "* * * \n"
     ]
    }
   ],
   "source": [
    "for i in range(4):\n",
    "    print(\"* \"*3)"
   ]
  },
  {
   "cell_type": "markdown",
   "id": "32484e2c",
   "metadata": {},
   "source": [
    "# Write a program to print the following pattern \n",
    "*\n",
    "* *\n",
    "* * *\n",
    "* * * *"
   ]
  },
  {
   "cell_type": "code",
   "execution_count": 18,
   "id": "be5eed55",
   "metadata": {},
   "outputs": [
    {
     "name": "stdout",
     "output_type": "stream",
     "text": [
      "\n",
      "* \n",
      "* * \n",
      "* * * \n",
      "* * * * \n"
     ]
    }
   ],
   "source": [
    "for i in range(5):\n",
    "    print(\"* \" * i)"
   ]
  },
  {
   "cell_type": "markdown",
   "id": "75c44318",
   "metadata": {},
   "source": [
    "# Write a program to print the following pattern \n",
    "\n",
    "* * * *\n",
    "* * *\n",
    "* *\n",
    "*"
   ]
  },
  {
   "cell_type": "code",
   "execution_count": 26,
   "id": "e0f046ed",
   "metadata": {},
   "outputs": [
    {
     "name": "stdout",
     "output_type": "stream",
     "text": [
      "* * * * * \n",
      "* * * * \n",
      "* * * \n",
      "* * \n",
      "* \n"
     ]
    }
   ],
   "source": [
    "for i in range(5):\n",
    "    num = 5 - i\n",
    "    print(\"* \"* num)"
   ]
  },
  {
   "cell_type": "markdown",
   "id": "27f5cf40",
   "metadata": {},
   "source": [
    "# Write a program to accept an integer from the user and display all the numbers from 1 to that number. Repeat the process until the user enters 0.\n"
   ]
  },
  {
   "cell_type": "code",
   "execution_count": 29,
   "id": "a447147d",
   "metadata": {},
   "outputs": [
    {
     "name": "stdout",
     "output_type": "stream",
     "text": [
      "Enter intger else press 0 to end: 3\n",
      "[1, 2, 3]\n",
      "Enter intger else press 0 to end: 2\n",
      "[1, 2]\n",
      "Enter intger else press 0 to end: 5\n",
      "[1, 2, 3, 4, 5]\n",
      "Enter intger else press 0 to end: 3\n",
      "[1, 2, 3]\n",
      "Enter intger else press 0 to end: 99\n",
      "[1, 2, 3, 4, 5, 6, 7, 8, 9, 10, 11, 12, 13, 14, 15, 16, 17, 18, 19, 20, 21, 22, 23, 24, 25, 26, 27, 28, 29, 30, 31, 32, 33, 34, 35, 36, 37, 38, 39, 40, 41, 42, 43, 44, 45, 46, 47, 48, 49, 50, 51, 52, 53, 54, 55, 56, 57, 58, 59, 60, 61, 62, 63, 64, 65, 66, 67, 68, 69, 70, 71, 72, 73, 74, 75, 76, 77, 78, 79, 80, 81, 82, 83, 84, 85, 86, 87, 88, 89, 90, 91, 92, 93, 94, 95, 96, 97, 98, 99]\n",
      "Enter intger else press 0 to end: 0\n",
      "[]\n"
     ]
    }
   ],
   "source": [
    "num = 1\n",
    "\n",
    "while num>0: \n",
    "    num = int(input(\"Enter intger else press 0 to end: \"))\n",
    "    print(list(range(1,num+1)))\n"
   ]
  },
  {
   "cell_type": "markdown",
   "id": "ae1f36a4",
   "metadata": {},
   "source": []
  },
  {
   "cell_type": "code",
   "execution_count": null,
   "id": "06e6c9c7",
   "metadata": {},
   "outputs": [],
   "source": []
  }
 ],
 "metadata": {
  "kernelspec": {
   "display_name": "Python 3 (ipykernel)",
   "language": "python",
   "name": "python3"
  },
  "language_info": {
   "codemirror_mode": {
    "name": "ipython",
    "version": 3
   },
   "file_extension": ".py",
   "mimetype": "text/x-python",
   "name": "python",
   "nbconvert_exporter": "python",
   "pygments_lexer": "ipython3",
   "version": "3.11.5"
  }
 },
 "nbformat": 4,
 "nbformat_minor": 5
}
