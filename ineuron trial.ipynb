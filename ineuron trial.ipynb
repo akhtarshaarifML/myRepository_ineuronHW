{
 "cells": [
  {
   "cell_type": "code",
   "execution_count": 1,
   "id": "37bf52c7",
   "metadata": {},
   "outputs": [
    {
     "data": {
      "text/plain": [
       "2"
      ]
     },
     "execution_count": 1,
     "metadata": {},
     "output_type": "execute_result"
    }
   ],
   "source": [
    "1+1\n"
   ]
  },
  {
   "cell_type": "code",
   "execution_count": 3,
   "id": "9ea72caa",
   "metadata": {},
   "outputs": [
    {
     "name": "stdout",
     "output_type": "stream",
     "text": [
      "10*"
     ]
    }
   ],
   "source": [
    "a= 10\n",
    "print(a, end= '*')"
   ]
  },
  {
   "cell_type": "code",
   "execution_count": 13,
   "id": "fe709867",
   "metadata": {},
   "outputs": [
    {
     "name": "stdout",
     "output_type": "stream",
     "text": [
      "10\t20\b30"
     ]
    }
   ],
   "source": [
    "a,b,c= 10,20,30\n",
    "print(a, end = '\\t')\n",
    "print(b, end = '\\b')\n",
    "print(c, end = '')"
   ]
  },
  {
   "cell_type": "code",
   "execution_count": 47,
   "id": "cdde409a",
   "metadata": {
    "scrolled": true
   },
   "outputs": [
    {
     "name": "stdout",
     "output_type": "stream",
     "text": [
      " first number: 20'\n"
     ]
    },
    {
     "data": {
      "text/plain": [
       "\"20'\""
      ]
     },
     "execution_count": 47,
     "metadata": {},
     "output_type": "execute_result"
    }
   ],
   "source": [
    "input( ' first number: ')"
   ]
  },
  {
   "cell_type": "code",
   "execution_count": 48,
   "id": "aa10947c",
   "metadata": {},
   "outputs": [
    {
     "name": "stdout",
     "output_type": "stream",
     "text": [
      "write any number :90\n"
     ]
    }
   ],
   "source": [
    "a = input(\"write any number :\")"
   ]
  },
  {
   "cell_type": "code",
   "execution_count": 50,
   "id": "7ea77469",
   "metadata": {},
   "outputs": [
    {
     "name": "stdout",
     "output_type": "stream",
     "text": [
      "90\n"
     ]
    }
   ],
   "source": [
    "print(a)"
   ]
  },
  {
   "cell_type": "code",
   "execution_count": 51,
   "id": "a8e08fc3",
   "metadata": {},
   "outputs": [
    {
     "data": {
      "text/plain": [
       "str"
      ]
     },
     "execution_count": 51,
     "metadata": {},
     "output_type": "execute_result"
    }
   ],
   "source": [
    "type(a)"
   ]
  },
  {
   "cell_type": "code",
   "execution_count": 52,
   "id": "3ebb921d",
   "metadata": {},
   "outputs": [
    {
     "name": "stdout",
     "output_type": "stream",
     "text": [
      "0.5\n"
     ]
    }
   ],
   "source": [
    "a = 10\n",
    "b = 20\n",
    "c = a/b\n",
    "print(c)"
   ]
  },
  {
   "cell_type": "code",
   "execution_count": 53,
   "id": "a93f0c03",
   "metadata": {},
   "outputs": [
    {
     "ename": "ZeroDivisionError",
     "evalue": "division by zero",
     "output_type": "error",
     "traceback": [
      "\u001b[0;31m---------------------------------------------------------------------------\u001b[0m",
      "\u001b[0;31mZeroDivisionError\u001b[0m                         Traceback (most recent call last)",
      "Cell \u001b[0;32mIn[53], line 3\u001b[0m\n\u001b[1;32m      1\u001b[0m a \u001b[38;5;241m=\u001b[39m \u001b[38;5;241m10\u001b[39m\n\u001b[1;32m      2\u001b[0m b \u001b[38;5;241m=\u001b[39m \u001b[38;5;241m0\u001b[39m\n\u001b[0;32m----> 3\u001b[0m c \u001b[38;5;241m=\u001b[39m a\u001b[38;5;241m/\u001b[39mb\n\u001b[1;32m      4\u001b[0m \u001b[38;5;28mprint\u001b[39m(c)\n",
      "\u001b[0;31mZeroDivisionError\u001b[0m: division by zero"
     ]
    }
   ],
   "source": [
    "a = 10\n",
    "b = 0\n",
    "c = a/b\n",
    "print(c)"
   ]
  },
  {
   "cell_type": "code",
   "execution_count": 1,
   "id": "082a68c6",
   "metadata": {},
   "outputs": [],
   "source": [
    "#format specifier"
   ]
  },
  {
   "cell_type": "code",
   "execution_count": 2,
   "id": "a8110588",
   "metadata": {},
   "outputs": [
    {
     "name": "stdout",
     "output_type": "stream",
     "text": [
      "cuckoo 6\n"
     ]
    }
   ],
   "source": [
    "print(\"cuckoo\", 6)"
   ]
  },
  {
   "cell_type": "code",
   "execution_count": 21,
   "id": "7929af49",
   "metadata": {},
   "outputs": [
    {
     "name": "stdout",
     "output_type": "stream",
     "text": [
      "hello das bholu , how are you?\n"
     ]
    }
   ],
   "source": [
    "name = \"bholu\"\n",
    "sirname = \"das\"\n",
    "print(\"hello {1} {0} , how are you?\".format(name, sirname))"
   ]
  },
  {
   "cell_type": "code",
   "execution_count": 22,
   "id": "1ff20bc9",
   "metadata": {},
   "outputs": [
    {
     "name": "stdout",
     "output_type": "stream",
     "text": [
      "hello das bholu , how are you?\n"
     ]
    }
   ],
   "source": [
    "name = \"bholu\"\n",
    "sirname = \"das\"\n",
    "print(\"hello {b} {a} , how are you?\".format(a = name, b = sirname))"
   ]
  },
  {
   "cell_type": "code",
   "execution_count": 23,
   "id": "5e8eb58e",
   "metadata": {},
   "outputs": [
    {
     "data": {
      "text/plain": [
       "(8+0j)"
      ]
     },
     "execution_count": 23,
     "metadata": {},
     "output_type": "execute_result"
    }
   ],
   "source": [
    "a = 8\n",
    "complex(a)"
   ]
  },
  {
   "cell_type": "code",
   "execution_count": 27,
   "id": "057fa711",
   "metadata": {},
   "outputs": [
    {
     "data": {
      "text/plain": [
       "8"
      ]
     },
     "execution_count": 27,
     "metadata": {},
     "output_type": "execute_result"
    }
   ],
   "source": [
    "a"
   ]
  },
  {
   "cell_type": "code",
   "execution_count": 33,
   "id": "4b147b02",
   "metadata": {},
   "outputs": [
    {
     "name": "stdout",
     "output_type": "stream",
     "text": [
      "chupp\n"
     ]
    }
   ],
   "source": [
    "x = 9\n",
    "if x >= 50 :\n",
    "    print(\"bully\")\n",
    "    \n",
    "else:\n",
    "        print(\"chupp\")"
   ]
  },
  {
   "cell_type": "code",
   "execution_count": 34,
   "id": "6d50904e",
   "metadata": {},
   "outputs": [
    {
     "name": "stdout",
     "output_type": "stream",
     "text": [
      "we are out\n"
     ]
    }
   ],
   "source": [
    "if x > 50:\n",
    "    print(\"we are in\")\n",
    "else:\n",
    "    print(\"we are out\")"
   ]
  },
  {
   "cell_type": "code",
   "execution_count": 35,
   "id": "e92e1ee5",
   "metadata": {},
   "outputs": [],
   "source": [
    "#54"
   ]
  },
  {
   "cell_type": "code",
   "execution_count": 44,
   "id": "abfafd81",
   "metadata": {},
   "outputs": [
    {
     "name": "stdout",
     "output_type": "stream",
     "text": [
      "second if\n"
     ]
    }
   ],
   "source": [
    "if a == 50 :\n",
    "    print(\"a is in first if\")\n",
    "elif a < 50 :\n",
    "    print(\"second if\")\n",
    "elif a > 50 :\n",
    "    print(\"third if\")\n",
    "else:\n",
    "    print(\"kantap\")\n",
    "    "
   ]
  },
  {
   "cell_type": "code",
   "execution_count": 47,
   "id": "90e109e7",
   "metadata": {},
   "outputs": [
    {
     "data": {
      "text/plain": [
       "1"
      ]
     },
     "execution_count": 47,
     "metadata": {},
     "output_type": "execute_result"
    }
   ],
   "source": [
    "a =17\n",
    "a%2\n"
   ]
  },
  {
   "cell_type": "code",
   "execution_count": 53,
   "id": "2c095e86",
   "metadata": {},
   "outputs": [
    {
     "name": "stdout",
     "output_type": "stream",
     "text": [
      "enter integer:1232435\n",
      "1232435 is odd\n"
     ]
    }
   ],
   "source": [
    "integer = int(input(\"enter integer:\"))\n",
    "\n",
    "if integer%2 == 0:\n",
    "    print(\"{} is even\".format(integer))\n",
    "else:\n",
    "    print(\"{} is odd\".format(integer))\n",
    "    "
   ]
  },
  {
   "cell_type": "code",
   "execution_count": 59,
   "id": "6e53f45e",
   "metadata": {},
   "outputs": [
    {
     "name": "stdout",
     "output_type": "stream",
     "text": [
      "enter letter:Asd\n",
      "lower\n"
     ]
    }
   ],
   "source": [
    "char = input(\"enter letter:\")\n",
    "if char.isupper() == 1:\n",
    "    print(\"capital\")\n",
    "    \n",
    "else:\n",
    "    print(\"lower\")"
   ]
  },
  {
   "cell_type": "code",
   "execution_count": 56,
   "id": "5083097b",
   "metadata": {},
   "outputs": [
    {
     "data": {
      "text/plain": [
       "False"
      ]
     },
     "execution_count": 56,
     "metadata": {},
     "output_type": "execute_result"
    }
   ],
   "source": [
    "char.isupper()"
   ]
  },
  {
   "cell_type": "code",
   "execution_count": 60,
   "id": "7cbbcb02",
   "metadata": {},
   "outputs": [],
   "source": [
    "#1:21"
   ]
  },
  {
   "cell_type": "code",
   "execution_count": 70,
   "id": "566752de",
   "metadata": {},
   "outputs": [
    {
     "name": "stdout",
     "output_type": "stream",
     "text": [
      "enter character:X\n",
      "this char is capital\n"
     ]
    }
   ],
   "source": [
    "ch = input(\"enter character:\")\n",
    "if \"A\"<= ch <= \"Z\":\n",
    "    print(\"this char is capital\")\n",
    "else:\n",
    "    print(\"its small\")"
   ]
  },
  {
   "cell_type": "code",
   "execution_count": 73,
   "id": "1f2cd302",
   "metadata": {},
   "outputs": [
    {
     "name": "stdout",
     "output_type": "stream",
     "text": [
      "enter a:12\n",
      "enter b:34\n",
      "enter c:22\n",
      "max is : 34\n"
     ]
    }
   ],
   "source": [
    "a = input(\"enter a:\")\n",
    "b = input(\"enter b:\")\n",
    "c = input(\"enter c:\")\n",
    "\n",
    "print(\"max is :\",max(a,b,c))"
   ]
  },
  {
   "cell_type": "code",
   "execution_count": 81,
   "id": "bb62417b",
   "metadata": {},
   "outputs": [
    {
     "name": "stdout",
     "output_type": "stream",
     "text": [
      "enter a:3\n",
      "enter b:2\n",
      "enter c:1\n",
      "3\n"
     ]
    }
   ],
   "source": [
    "a = int(input(\"enter a:\"))\n",
    "b = int(input(\"enter b:\"))\n",
    "c = int(input(\"enter c:\"))\n",
    "\n",
    "if a>b :\n",
    "    \n",
    "    if a>c:\n",
    "        print(a)\n",
    "    else:\n",
    "    \n",
    "        print(c)\n",
    "elif b>a:\n",
    "\n",
    "    if b>c:\n",
    "        print(b)\n",
    "    else:\n",
    "        print(c)\n",
    "\n",
    "        \n"
   ]
  },
  {
   "cell_type": "code",
   "execution_count": 84,
   "id": "d42d4560",
   "metadata": {},
   "outputs": [
    {
     "name": "stdout",
     "output_type": "stream",
     "text": [
      "1 sunny\n",
      "2 sunny\n",
      "3 sunny\n",
      "4 sunny\n",
      "5 sunny\n",
      "6 sunny\n",
      "7 sunny\n",
      "8 sunny\n",
      "9 sunny\n",
      "10 sunny\n"
     ]
    }
   ],
   "source": [
    "x = 1\n",
    "while x <= 10:\n",
    "    print('{} sunny'.format(x))\n",
    "    x += 1"
   ]
  },
  {
   "cell_type": "code",
   "execution_count": 85,
   "id": "04516a05",
   "metadata": {},
   "outputs": [
    {
     "name": "stdout",
     "output_type": "stream",
     "text": [
      "1\n",
      "2\n",
      "3\n",
      "4\n",
      "5\n",
      "6\n",
      "7\n",
      "8\n",
      "9\n",
      "10\n",
      "11\n",
      "12\n",
      "13\n",
      "14\n",
      "15\n",
      "16\n",
      "17\n",
      "18\n",
      "19\n",
      "20\n",
      "21\n",
      "22\n",
      "23\n",
      "24\n",
      "25\n",
      "26\n",
      "27\n",
      "28\n",
      "29\n",
      "30\n",
      "31\n",
      "32\n",
      "33\n",
      "34\n",
      "35\n",
      "36\n",
      "37\n",
      "38\n",
      "39\n",
      "40\n",
      "41\n",
      "42\n",
      "43\n",
      "44\n",
      "45\n",
      "46\n",
      "47\n",
      "48\n",
      "49\n",
      "50\n"
     ]
    }
   ],
   "source": [
    "i = 1\n",
    "while i <= 50:\n",
    "    print(i)\n",
    "    i += 1"
   ]
  },
  {
   "cell_type": "code",
   "execution_count": 105,
   "id": "4ff88dfb",
   "metadata": {},
   "outputs": [
    {
     "name": "stdout",
     "output_type": "stream",
     "text": [
      "enter a string: I am pappu\n",
      "m\n",
      "p\n",
      "p\n",
      "p\n",
      "loop ends with 10\n"
     ]
    }
   ],
   "source": [
    "string = input(\"enter a string: \")\n",
    "vovels = [\"a\",\"e\",\"i\", \"o\", \"u\",\" \"]\n",
    "i = 0\n",
    "while i < len(string):\n",
    "    \n",
    "    if string[i].lower() not in \"aeiou \":\n",
    "    \n",
    "        print(string[i])\n",
    "    i = i + 1\n",
    "    \n",
    "print(\"loop ends with\", i)\n",
    "    \n",
    "    "
   ]
  },
  {
   "cell_type": "code",
   "execution_count": null,
   "id": "6f76089b",
   "metadata": {},
   "outputs": [],
   "source": []
  },
  {
   "cell_type": "code",
   "execution_count": 96,
   "id": "a6eb092d",
   "metadata": {},
   "outputs": [
    {
     "data": {
      "text/plain": [
       "4"
      ]
     },
     "execution_count": 96,
     "metadata": {},
     "output_type": "execute_result"
    }
   ],
   "source": [
    "len(string)"
   ]
  },
  {
   "cell_type": "code",
   "execution_count": 108,
   "id": "fc62d8ed",
   "metadata": {},
   "outputs": [
    {
     "data": {
      "text/plain": [
       "11"
      ]
     },
     "execution_count": 108,
     "metadata": {},
     "output_type": "execute_result"
    }
   ],
   "source": [
    "x"
   ]
  },
  {
   "cell_type": "code",
   "execution_count": null,
   "id": "7df3aded",
   "metadata": {},
   "outputs": [],
   "source": []
  }
 ],
 "metadata": {
  "kernelspec": {
   "display_name": "Python 3 (ipykernel)",
   "language": "python",
   "name": "python3"
  },
  "language_info": {
   "codemirror_mode": {
    "name": "ipython",
    "version": 3
   },
   "file_extension": ".py",
   "mimetype": "text/x-python",
   "name": "python",
   "nbconvert_exporter": "python",
   "pygments_lexer": "ipython3",
   "version": "3.11.5"
  }
 },
 "nbformat": 4,
 "nbformat_minor": 5
}
